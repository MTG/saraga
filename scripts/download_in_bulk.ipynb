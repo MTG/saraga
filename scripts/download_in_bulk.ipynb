{
 "cells": [
  {
   "cell_type": "markdown",
   "metadata": {},
   "source": [
    "# You can use this script for: \n",
    "\n",
    "* If you want to download the entire dataset all at once\n",
    "\n",
    "Though we prefer that you avoid this option (time consuming) and instead download the zip of the dataset provided here: https://zenodo.org/record/1256127#.X3VXcZMzZhE\n",
    "\n",
    "\n",
    "#### NOTE:\n",
    "To understand different kind of slugs (for tradition and files) and how to obtain the API token etc. please carefully go through the readme provided at: https://github.com/mtg/saraga\n"
   ]
  },
  {
   "cell_type": "code",
   "execution_count": null,
   "metadata": {
    "ExecuteTime": {
     "end_time": "2020-10-01T04:20:12.604195Z",
     "start_time": "2020-10-01T04:20:12.410928Z"
    }
   },
   "outputs": [],
   "source": [
    "# importing modules we would need for this script\n",
    "import os\n",
    "import sys\n",
    "import pdb\n",
    "import pandas as pd\n",
    "import numpy as np\n",
    "sys.path.append(os.path.join(os.path.dirname('__file__'), '../'))\n",
    "from utilities.dataset import Dataset"
   ]
  },
  {
   "cell_type": "markdown",
   "metadata": {},
   "source": [
    "# Setting up api_token and tradition_slug"
   ]
  },
  {
   "cell_type": "code",
   "execution_count": null,
   "metadata": {
    "ExecuteTime": {
     "end_time": "2020-10-01T04:20:33.924284Z",
     "start_time": "2020-10-01T04:20:33.921786Z"
    }
   },
   "outputs": [],
   "source": [
    "api_token = \"\" # set your token here\n",
    "\n",
    "# slug for the tradition for which you want to do the analysis\n",
    "# possible values 'dunya-hindustani-cc' or 'dunya-carnatic-cc'\n",
    "tradition_slug = 'dunya-hindustani-cc'"
   ]
  },
  {
   "cell_type": "code",
   "execution_count": null,
   "metadata": {
    "ExecuteTime": {
     "end_time": "2020-10-01T04:23:54.520382Z",
     "start_time": "2020-10-01T04:23:54.517969Z"
    }
   },
   "outputs": [],
   "source": [
    "# Root directory where you want to download the datset\n",
    "root_dir = '.' # specify a directory path"
   ]
  },
  {
   "cell_type": "code",
   "execution_count": null,
   "metadata": {
    "ExecuteTime": {
     "end_time": "2020-10-01T04:20:52.881906Z",
     "start_time": "2020-10-01T04:20:52.879484Z"
    }
   },
   "outputs": [],
   "source": [
    "# create a dataset object\n",
    "obj = Dataset(tradition_slug, api_token)"
   ]
  },
  {
   "cell_type": "code",
   "execution_count": null,
   "metadata": {
    "ExecuteTime": {
     "end_time": "2020-10-01T04:23:56.575626Z",
     "start_time": "2020-10-01T04:23:56.573475Z"
    }
   },
   "outputs": [],
   "source": [
    "# download the dataset\n",
    "obj.download_files(root_dir)"
   ]
  },
  {
   "cell_type": "markdown",
   "metadata": {},
   "source": [
    "# Tip:\n",
    "\n",
    "If you want to download only certain files you can additionally use ```slug``` parameter to specify that. \n",
    "\n",
    "Example: Lets say we only want to download the main stereo recordings, the slug for these type of files is 'mp3'\n",
    "\n",
    "This would be the command \n",
    "\n",
    "```obj.download_files(root_dir, slug=['mp3'])```"
   ]
  },
  {
   "cell_type": "code",
   "execution_count": null,
   "metadata": {},
   "outputs": [],
   "source": []
  }
 ],
 "metadata": {
  "hide_input": false,
  "kernelspec": {
   "display_name": "Python 3",
   "language": "python",
   "name": "python3"
  },
  "language_info": {
   "codemirror_mode": {
    "name": "ipython",
    "version": 3
   },
   "file_extension": ".py",
   "mimetype": "text/x-python",
   "name": "python",
   "nbconvert_exporter": "python",
   "pygments_lexer": "ipython3",
   "version": "3.7.1"
  },
  "toc": {
   "base_numbering": 1,
   "nav_menu": {},
   "number_sections": true,
   "sideBar": true,
   "skip_h1_title": false,
   "title_cell": "Table of Contents",
   "title_sidebar": "Contents",
   "toc_cell": false,
   "toc_position": {},
   "toc_section_display": true,
   "toc_window_display": false
  }
 },
 "nbformat": 4,
 "nbformat_minor": 4
}
