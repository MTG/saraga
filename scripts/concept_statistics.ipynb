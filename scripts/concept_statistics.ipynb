{
 "cells": [
  {
   "cell_type": "markdown",
   "metadata": {
    "ExecuteTime": {
     "end_time": "2020-09-30T11:34:54.918940Z",
     "start_time": "2020-09-30T11:34:54.815083Z"
    }
   },
   "source": [
    "# You can use this script for\n",
    "\n",
    "* Counting number of recording (i.e. mbids) for each concept in the dataset (such as raga, tala, artist etc)"
   ]
  },
  {
   "cell_type": "code",
   "execution_count": 3,
   "metadata": {
    "ExecuteTime": {
     "end_time": "2020-10-01T03:44:45.573496Z",
     "start_time": "2020-10-01T03:44:44.713934Z"
    }
   },
   "outputs": [],
   "source": [
    "import os\n",
    "import sys\n",
    "import pdb\n",
    "import pandas as pd\n",
    "import numpy as np\n",
    "sys.path.append(os.path.join(os.path.dirname('__file__'), '../'))\n",
    "from utilities.dataset import Dataset"
   ]
  },
  {
   "cell_type": "markdown",
   "metadata": {},
   "source": [
    "# Lets start by setting our api_token and tradition slug"
   ]
  },
  {
   "cell_type": "code",
   "execution_count": null,
   "metadata": {
    "ExecuteTime": {
     "end_time": "2020-10-01T01:56:48.494504Z",
     "start_time": "2020-10-01T01:56:48.491927Z"
    }
   },
   "outputs": [],
   "source": [
    "api_token = \"\" # set your token here\n",
    "tradition_slug = 'dunya-hindustani-cc' # slug for the tradition for which you want to do the analysis"
   ]
  },
  {
   "cell_type": "code",
   "execution_count": null,
   "metadata": {
    "ExecuteTime": {
     "end_time": "2020-10-01T01:57:01.180027Z",
     "start_time": "2020-10-01T01:57:01.177341Z"
    }
   },
   "outputs": [],
   "source": [
    "# Create a dataset object\n",
    "obj = Dataset(tradition_slug, api_token)"
   ]
  },
  {
   "cell_type": "code",
   "execution_count": null,
   "metadata": {
    "ExecuteTime": {
     "end_time": "2020-10-01T01:58:53.027578Z",
     "start_time": "2020-10-01T01:58:00.085225Z"
    }
   },
   "outputs": [],
   "source": [
    "# Lets get all the information associated with a dataset (all the metadata and related annotation files)\n",
    "# In case of Carnatic music this also fetches linked multi-track recordings\n",
    "dataset_info = obj.consolidate_dataset_info()"
   ]
  },
  {
   "cell_type": "markdown",
   "metadata": {},
   "source": [
    "# Lets get count of mbids (recordings) for each type of metadata\n",
    "\n",
    "### Note\n",
    "The metadata slug (machine readable identifiers of the of the concepts like Raga and Tala) are different in both Hindustani and Carnatic tradition. Please use the appropriate one depending on the tradition you are analyzing.\n",
    "\n",
    "We here list the slugs for different metadata types in Hindustani and Carnatic tradition: \n",
    "\n",
    "| Metadata | Hindustani | Carnatic |\n",
    "| --- | --- | --- |\n",
    "| Raga | raags | raaga |\n",
    "| Tala | taals | taala |\n",
    "| Form | forms | form |\n",
    "| Laya | layas | laya |\n",
    "| Work | works | work |\n",
    "| Release | release | concert |\n",
    "| Album artist | album_artists | album_artists |"
   ]
  },
  {
   "cell_type": "code",
   "execution_count": null,
   "metadata": {
    "ExecuteTime": {
     "end_time": "2020-10-01T02:21:06.223410Z",
     "start_time": "2020-10-01T02:21:06.220932Z"
    }
   },
   "outputs": [],
   "source": [
    "# For the tradition you are analysing select a metadata slug that you want to analyse\n",
    "meta_slug = 'taals'"
   ]
  },
  {
   "cell_type": "code",
   "execution_count": null,
   "metadata": {
    "ExecuteTime": {
     "end_time": "2020-10-01T02:21:06.624134Z",
     "start_time": "2020-10-01T02:21:06.602578Z"
    }
   },
   "outputs": [],
   "source": [
    "# Lets count the number of mbids (recordings) which are linked with this concept\n",
    "output = []\n",
    "for index, row in obj.dataset_info.iterrows():\n",
    "    if row[meta_slug] is None or len(row[meta_slug])==0:\n",
    "        continue\n",
    "    if isinstance(row[meta_slug], np.ndarray) or isinstance(row[meta_slug], list):\n",
    "        for val in row[meta_slug]:\n",
    "            output.append(dict(mbid=row.mbid, metadata=val))\n",
    "    else:\n",
    "        output.append(dict(mbid=row.mbid, concept=row[meta_slug]))\n",
    "output_df = pd.DataFrame(output)"
   ]
  },
  {
   "cell_type": "code",
   "execution_count": null,
   "metadata": {
    "ExecuteTime": {
     "end_time": "2020-10-01T02:21:07.019422Z",
     "start_time": "2020-10-01T02:21:07.014052Z"
    }
   },
   "outputs": [],
   "source": [
    "# Lets see the counts\n",
    "metadata_counts = output_df.metadata.value_counts()\n",
    "# This command below makes sure pandas print all the lines in the dataframe, otherwise the printed output will be truncated\n",
    "pd.set_option('display.max_rows', metadata_counts.shape[0]+1) \n",
    "print(metadata_counts)"
   ]
  },
  {
   "cell_type": "code",
   "execution_count": null,
   "metadata": {
    "ExecuteTime": {
     "end_time": "2020-10-01T02:20:50.944395Z",
     "start_time": "2020-10-01T02:20:50.939744Z"
    }
   },
   "outputs": [],
   "source": [
    "# You can dump the entire list in a csv file\n",
    "file_path = 'metadata_counts.csv' # choose an appropriate file path\n",
    "metadata_counts.to_csv(file_path)"
   ]
  },
  {
   "cell_type": "code",
   "execution_count": null,
   "metadata": {},
   "outputs": [],
   "source": []
  }
 ],
 "metadata": {
  "hide_input": false,
  "kernelspec": {
   "display_name": "Python 3",
   "language": "python",
   "name": "python3"
  },
  "language_info": {
   "codemirror_mode": {
    "name": "ipython",
    "version": 3
   },
   "file_extension": ".py",
   "mimetype": "text/x-python",
   "name": "python",
   "nbconvert_exporter": "python",
   "pygments_lexer": "ipython3",
   "version": "3.7.6"
  },
  "toc": {
   "base_numbering": 1,
   "nav_menu": {},
   "number_sections": true,
   "sideBar": true,
   "skip_h1_title": false,
   "title_cell": "Table of Contents",
   "title_sidebar": "Contents",
   "toc_cell": false,
   "toc_position": {},
   "toc_section_display": true,
   "toc_window_display": false
  }
 },
 "nbformat": 4,
 "nbformat_minor": 4
}
