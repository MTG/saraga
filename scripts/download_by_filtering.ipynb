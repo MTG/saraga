{
 "cells": [
  {
   "cell_type": "markdown",
   "metadata": {},
   "source": [
    "# You can use this script for:\n",
    "\n",
    "* If you want to filter the dataset by specific metadata (certain ragas, talas etc) \n",
    "* Download the filtered dataset\n",
    "* Or do some analysis on the filtered data (counts of other related information for instance)"
   ]
  },
  {
   "cell_type": "code",
   "execution_count": 1,
   "metadata": {
    "ExecuteTime": {
     "end_time": "2020-10-01T02:43:05.497634Z",
     "start_time": "2020-10-01T02:43:05.078047Z"
    }
   },
   "outputs": [],
   "source": [
    "import os\n",
    "import sys\n",
    "import pdb\n",
    "import pandas as pd\n",
    "import numpy as np\n",
    "sys.path.append(os.path.join(os.path.dirname('__file__'), '../'))\n",
    "from utilities.dataset_filtering_util import DatasetFilteringUtil"
   ]
  },
  {
   "cell_type": "markdown",
   "metadata": {},
   "source": [
    "# Setting API token to access the data\n",
    "\n",
    "You can get an API token by registering yourself in : https://dunya.compmusic.upf.edu/\n",
    "\n",
    "NOTE: Tradition slug (i.e. a machine readable unique identifier for the tradition) for hindustani is ```dunya-hindustani-cc```"
   ]
  },
  {
   "cell_type": "code",
   "execution_count": 2,
   "metadata": {
    "ExecuteTime": {
     "end_time": "2020-10-01T02:43:07.304966Z",
     "start_time": "2020-10-01T02:43:07.302527Z"
    }
   },
   "outputs": [],
   "source": [
    "api_token = \"\" # set your token here\n",
    "tradition_slug = 'dunya-hindustani-cc'"
   ]
  },
  {
   "cell_type": "markdown",
   "metadata": {},
   "source": [
    "# Fetching information and setting up filters\n",
    "\n",
    "### Note: \n",
    "Fetching information every time from the servers is a time taking process (~5 min). To make quicker, we store the information we fetched from the server on the local machine. \n",
    "\n",
    "```use_cached = True``` : uses the information saved on the local machine\n",
    "\n",
    "```use_cached = False``` : pulls the information from the server\n",
    "\n",
    "If you are using this notebook after a long time you might want to use ```use_cached = False``` to make sure the information stored locally is synced with that on the server."
   ]
  },
  {
   "cell_type": "code",
   "execution_count": 9,
   "metadata": {
    "ExecuteTime": {
     "end_time": "2020-10-01T02:45:11.540111Z",
     "start_time": "2020-10-01T02:45:11.533134Z"
    }
   },
   "outputs": [],
   "source": [
    "# Lets create an object which will perform filtering for us\n",
    "obj = DatasetFilteringUtil(api_token, tradition_slug, use_cached=True)"
   ]
  },
  {
   "cell_type": "code",
   "execution_count": 10,
   "metadata": {
    "ExecuteTime": {
     "end_time": "2020-10-01T02:45:17.733599Z",
     "start_time": "2020-10-01T02:45:17.626110Z"
    }
   },
   "outputs": [
    {
     "data": {
      "application/vnd.jupyter.widget-view+json": {
       "model_id": "063b1fa382444732bd9771744cf12979",
       "version_major": 2,
       "version_minor": 0
      },
      "text/plain": [
       "Output()"
      ]
     },
     "metadata": {},
     "output_type": "display_data"
    },
    {
     "data": {
      "application/vnd.jupyter.widget-view+json": {
       "model_id": "5f9dee2059dd4f988973e64d1584b3ad",
       "version_major": 2,
       "version_minor": 0
      },
      "text/plain": [
       "SelectMultiple(description='Album Artists', options=('Ajoy Chakrabarty', 'Anol Chatterjee', 'Brajeshwar Mukher…"
      ]
     },
     "metadata": {},
     "output_type": "display_data"
    },
    {
     "data": {
      "application/vnd.jupyter.widget-view+json": {
       "model_id": "e172fd50800e4657958eb1a448fa6b84",
       "version_major": 2,
       "version_minor": 0
      },
      "text/plain": [
       "Output()"
      ]
     },
     "metadata": {},
     "output_type": "display_data"
    },
    {
     "data": {
      "application/vnd.jupyter.widget-view+json": {
       "model_id": "c90ac10ef1924fb6b6f1f245da77fc16",
       "version_major": 2,
       "version_minor": 0
      },
      "text/plain": [
       "SelectMultiple(description='Raga', options=('Ahira bhairav', 'Bahār', 'Bairāgi', 'Basantī kēdār', 'Bhairav', '…"
      ]
     },
     "metadata": {},
     "output_type": "display_data"
    },
    {
     "data": {
      "application/vnd.jupyter.widget-view+json": {
       "model_id": "89b7575633274326be2dc2b7543120cf",
       "version_major": 2,
       "version_minor": 0
      },
      "text/plain": [
       "Output()"
      ]
     },
     "metadata": {},
     "output_type": "display_data"
    },
    {
     "data": {
      "application/vnd.jupyter.widget-view+json": {
       "model_id": "18b3d7498c814429ad48df7f65a099b4",
       "version_major": 2,
       "version_minor": 0
      },
      "text/plain": [
       "SelectMultiple(description='Tala', options=('Dādrā', 'Jaṭ', 'Jhaptāl', 'Jhūmrā', 'Kēharvā', 'Rūpak', 'Tilavāḍā…"
      ]
     },
     "metadata": {},
     "output_type": "display_data"
    },
    {
     "data": {
      "application/vnd.jupyter.widget-view+json": {
       "model_id": "c14b332173c2494290c1f87f63c78ca8",
       "version_major": 2,
       "version_minor": 0
      },
      "text/plain": [
       "Output()"
      ]
     },
     "metadata": {},
     "output_type": "display_data"
    },
    {
     "data": {
      "application/vnd.jupyter.widget-view+json": {
       "model_id": "d376918ca304417c91871e46c33c8889",
       "version_major": 2,
       "version_minor": 0
      },
      "text/plain": [
       "SelectMultiple(description='Form', options=('Bhajan', 'Dādrā', 'Khyāl', 'Tarānā', 'ṭhumri'), value=())"
      ]
     },
     "metadata": {},
     "output_type": "display_data"
    },
    {
     "data": {
      "application/vnd.jupyter.widget-view+json": {
       "model_id": "ab416e1d95654c788804d32d29937af5",
       "version_major": 2,
       "version_minor": 0
      },
      "text/plain": [
       "Output()"
      ]
     },
     "metadata": {},
     "output_type": "display_data"
    },
    {
     "data": {
      "application/vnd.jupyter.widget-view+json": {
       "model_id": "a6bc86b1bf4544499a2276b764d893d9",
       "version_major": 2,
       "version_minor": 0
      },
      "text/plain": [
       "SelectMultiple(description='File slugs', options=('bpm-manual', 'tempo-manual', 'pitch', 'ctonic', 'sama-manua…"
      ]
     },
     "metadata": {},
     "output_type": "display_data"
    }
   ],
   "source": [
    "# Lets fetch all the information and set the filters\n",
    "obj.prepare_filters()"
   ]
  },
  {
   "cell_type": "code",
   "execution_count": 11,
   "metadata": {
    "ExecuteTime": {
     "end_time": "2020-10-01T02:45:17.970040Z",
     "start_time": "2020-10-01T02:45:17.965454Z"
    }
   },
   "outputs": [
    {
     "name": "stdout",
     "output_type": "stream",
     "text": [
      "There are 108 number of mbids (recordings) selected after filtering\n"
     ]
    }
   ],
   "source": [
    "# After you select items, run this to filter the dataset\n",
    "filtered_dataset = obj.perform_filtering()\n",
    "print(\"There are %d number of mbids (recordings) selected after filtering\"%filtered_dataset.index.size)"
   ]
  },
  {
   "cell_type": "code",
   "execution_count": 12,
   "metadata": {
    "ExecuteTime": {
     "end_time": "2020-10-01T02:45:18.523610Z",
     "start_time": "2020-10-01T02:45:18.491309Z"
    }
   },
   "outputs": [
    {
     "data": {
      "text/html": [
       "<div>\n",
       "<style scoped>\n",
       "    .dataframe tbody tr th:only-of-type {\n",
       "        vertical-align: middle;\n",
       "    }\n",
       "\n",
       "    .dataframe tbody tr th {\n",
       "        vertical-align: top;\n",
       "    }\n",
       "\n",
       "    .dataframe thead th {\n",
       "        text-align: right;\n",
       "    }\n",
       "</style>\n",
       "<table border=\"1\" class=\"dataframe\">\n",
       "  <thead>\n",
       "    <tr style=\"text-align: right;\">\n",
       "      <th></th>\n",
       "      <th>mbid</th>\n",
       "      <th>title</th>\n",
       "      <th>release</th>\n",
       "      <th>works</th>\n",
       "      <th>raags</th>\n",
       "      <th>taals</th>\n",
       "      <th>forms</th>\n",
       "      <th>layas</th>\n",
       "      <th>album_artists</th>\n",
       "      <th>mp3</th>\n",
       "      <th>pitch</th>\n",
       "      <th>ctonic</th>\n",
       "      <th>sama-manual</th>\n",
       "      <th>bpm-manual</th>\n",
       "      <th>tempo-manual</th>\n",
       "      <th>sections-manual-p</th>\n",
       "      <th>mphrases-manual</th>\n",
       "      <th>is_selected</th>\n",
       "    </tr>\n",
       "  </thead>\n",
       "  <tbody>\n",
       "    <tr>\n",
       "      <th>0</th>\n",
       "      <td>450a6fcc-3c0a-483d-a31b-dde91413dcdd</td>\n",
       "      <td>Shrutinandan Concept - an Introduction by Pand...</td>\n",
       "      <td>[Geetinandan : Part-3]</td>\n",
       "      <td>[]</td>\n",
       "      <td>[]</td>\n",
       "      <td>[]</td>\n",
       "      <td>[]</td>\n",
       "      <td>[]</td>\n",
       "      <td>[Ajoy Chakrabarty]</td>\n",
       "      <td>1.0</td>\n",
       "      <td>1.0</td>\n",
       "      <td>1.0</td>\n",
       "      <td>1.0</td>\n",
       "      <td>1.0</td>\n",
       "      <td>1.0</td>\n",
       "      <td>1.0</td>\n",
       "      <td>0.0</td>\n",
       "      <td>True</td>\n",
       "    </tr>\n",
       "    <tr>\n",
       "      <th>1</th>\n",
       "      <td>b71c2774-2532-4692-8761-5452e2a83118</td>\n",
       "      <td>Bairagi</td>\n",
       "      <td>[Geetinandan : Part-3]</td>\n",
       "      <td>[Bar Bar Har Gai, Mere Maname Baso Ram Abhiram...</td>\n",
       "      <td>[Bairāgi]</td>\n",
       "      <td>[ēktāl]</td>\n",
       "      <td>[Khyāl]</td>\n",
       "      <td>[Vilaṁbit]</td>\n",
       "      <td>[Ajoy Chakrabarty]</td>\n",
       "      <td>1.0</td>\n",
       "      <td>1.0</td>\n",
       "      <td>1.0</td>\n",
       "      <td>1.0</td>\n",
       "      <td>1.0</td>\n",
       "      <td>1.0</td>\n",
       "      <td>1.0</td>\n",
       "      <td>1.0</td>\n",
       "      <td>True</td>\n",
       "    </tr>\n",
       "    <tr>\n",
       "      <th>2</th>\n",
       "      <td>3124479b-5118-4cf3-823f-8fefad45e586</td>\n",
       "      <td>Bilaskhani Todi</td>\n",
       "      <td>[Geetinandan : Part-3]</td>\n",
       "      <td>[Aankhia Bhar Aayee, Basia Bajee Mohana Shyama...</td>\n",
       "      <td>[Bilāsakhānī tōḍī]</td>\n",
       "      <td>[Tīntāl]</td>\n",
       "      <td>[Khyāl]</td>\n",
       "      <td>[Vilaṁbit]</td>\n",
       "      <td>[Ajoy Chakrabarty]</td>\n",
       "      <td>1.0</td>\n",
       "      <td>1.0</td>\n",
       "      <td>1.0</td>\n",
       "      <td>1.0</td>\n",
       "      <td>1.0</td>\n",
       "      <td>1.0</td>\n",
       "      <td>1.0</td>\n",
       "      <td>1.0</td>\n",
       "      <td>True</td>\n",
       "    </tr>\n",
       "    <tr>\n",
       "      <th>3</th>\n",
       "      <td>6a2c841d-5a0e-4886-a5c0-f856fccbb938</td>\n",
       "      <td>Nat Bhairon</td>\n",
       "      <td>[Geetinandan : Part-3]</td>\n",
       "      <td>[Dim Tom Tana Tadim Tanana, Gada Gada Tiharee ...</td>\n",
       "      <td>[Naṭ bhairav]</td>\n",
       "      <td>[Jhūmrā, Tīntāl, ēktāl]</td>\n",
       "      <td>[Khyāl, Tarānā]</td>\n",
       "      <td>[Vilaṁbit]</td>\n",
       "      <td>[Ajoy Chakrabarty]</td>\n",
       "      <td>1.0</td>\n",
       "      <td>1.0</td>\n",
       "      <td>1.0</td>\n",
       "      <td>1.0</td>\n",
       "      <td>1.0</td>\n",
       "      <td>1.0</td>\n",
       "      <td>1.0</td>\n",
       "      <td>1.0</td>\n",
       "      <td>True</td>\n",
       "    </tr>\n",
       "    <tr>\n",
       "      <th>4</th>\n",
       "      <td>51656b20-295c-40f9-8dab-005b9b90fa98</td>\n",
       "      <td>Aahir Bhairon</td>\n",
       "      <td>[Geetinandan : Part-3]</td>\n",
       "      <td>[Bhor Hi Aheerin, Kaise Ke Kara Aaun]</td>\n",
       "      <td>[Ahira bhairav]</td>\n",
       "      <td>[Jhaptāl, Tīntāl]</td>\n",
       "      <td>[Khyāl]</td>\n",
       "      <td>[Madhya]</td>\n",
       "      <td>[Ajoy Chakrabarty]</td>\n",
       "      <td>1.0</td>\n",
       "      <td>1.0</td>\n",
       "      <td>1.0</td>\n",
       "      <td>1.0</td>\n",
       "      <td>1.0</td>\n",
       "      <td>1.0</td>\n",
       "      <td>1.0</td>\n",
       "      <td>1.0</td>\n",
       "      <td>True</td>\n",
       "    </tr>\n",
       "  </tbody>\n",
       "</table>\n",
       "</div>"
      ],
      "text/plain": [
       "                                   mbid  \\\n",
       "0  450a6fcc-3c0a-483d-a31b-dde91413dcdd   \n",
       "1  b71c2774-2532-4692-8761-5452e2a83118   \n",
       "2  3124479b-5118-4cf3-823f-8fefad45e586   \n",
       "3  6a2c841d-5a0e-4886-a5c0-f856fccbb938   \n",
       "4  51656b20-295c-40f9-8dab-005b9b90fa98   \n",
       "\n",
       "                                               title                 release  \\\n",
       "0  Shrutinandan Concept - an Introduction by Pand...  [Geetinandan : Part-3]   \n",
       "1                                            Bairagi  [Geetinandan : Part-3]   \n",
       "2                                    Bilaskhani Todi  [Geetinandan : Part-3]   \n",
       "3                                        Nat Bhairon  [Geetinandan : Part-3]   \n",
       "4                                      Aahir Bhairon  [Geetinandan : Part-3]   \n",
       "\n",
       "                                               works               raags  \\\n",
       "0                                                 []                  []   \n",
       "1  [Bar Bar Har Gai, Mere Maname Baso Ram Abhiram...           [Bairāgi]   \n",
       "2  [Aankhia Bhar Aayee, Basia Bajee Mohana Shyama...  [Bilāsakhānī tōḍī]   \n",
       "3  [Dim Tom Tana Tadim Tanana, Gada Gada Tiharee ...       [Naṭ bhairav]   \n",
       "4              [Bhor Hi Aheerin, Kaise Ke Kara Aaun]     [Ahira bhairav]   \n",
       "\n",
       "                     taals            forms       layas       album_artists  \\\n",
       "0                       []               []          []  [Ajoy Chakrabarty]   \n",
       "1                  [ēktāl]          [Khyāl]  [Vilaṁbit]  [Ajoy Chakrabarty]   \n",
       "2                 [Tīntāl]          [Khyāl]  [Vilaṁbit]  [Ajoy Chakrabarty]   \n",
       "3  [Jhūmrā, Tīntāl, ēktāl]  [Khyāl, Tarānā]  [Vilaṁbit]  [Ajoy Chakrabarty]   \n",
       "4        [Jhaptāl, Tīntāl]          [Khyāl]    [Madhya]  [Ajoy Chakrabarty]   \n",
       "\n",
       "   mp3  pitch  ctonic  sama-manual  bpm-manual  tempo-manual  \\\n",
       "0  1.0    1.0     1.0          1.0         1.0           1.0   \n",
       "1  1.0    1.0     1.0          1.0         1.0           1.0   \n",
       "2  1.0    1.0     1.0          1.0         1.0           1.0   \n",
       "3  1.0    1.0     1.0          1.0         1.0           1.0   \n",
       "4  1.0    1.0     1.0          1.0         1.0           1.0   \n",
       "\n",
       "   sections-manual-p  mphrases-manual  is_selected  \n",
       "0                1.0              0.0         True  \n",
       "1                1.0              1.0         True  \n",
       "2                1.0              1.0         True  \n",
       "3                1.0              1.0         True  \n",
       "4                1.0              1.0         True  "
      ]
     },
     "execution_count": 12,
     "metadata": {},
     "output_type": "execute_result"
    }
   ],
   "source": [
    "# This is a \"preview\" of filtered dataset (top 5 rows)\n",
    "filtered_dataset.head()"
   ]
  },
  {
   "cell_type": "code",
   "execution_count": 13,
   "metadata": {
    "ExecuteTime": {
     "end_time": "2020-10-01T02:45:19.871767Z",
     "start_time": "2020-10-01T02:45:19.848660Z"
    }
   },
   "outputs": [],
   "source": [
    "# If you want to dump the filtered dataset in a csv and analyse you can do it as well\n",
    "file_path = 'filtered_dataset.csv'\n",
    "filtered_dataset.to_csv(file_path)"
   ]
  },
  {
   "cell_type": "code",
   "execution_count": 15,
   "metadata": {
    "ExecuteTime": {
     "end_time": "2020-10-01T02:46:40.129256Z",
     "start_time": "2020-10-01T02:46:40.127029Z"
    }
   },
   "outputs": [],
   "source": [
    "# If you want to download selected dataset you can do it\n",
    "root_dir = '/Users/naad/Work/Personal/saraga/testing/' # directory where files will be downloaded\n",
    "obj.obj_dataset.download_files(root_dir, mbids=filtered_dataset.mbid.values)"
   ]
  },
  {
   "cell_type": "code",
   "execution_count": 16,
   "metadata": {
    "ExecuteTime": {
     "end_time": "2020-10-01T02:48:31.280686Z",
     "start_time": "2020-10-01T02:48:13.100513Z"
    }
   },
   "outputs": [],
   "source": [
    "# In case you want to filter specific files for the selected dataset,\n",
    "# for example, downloading only mp3 and not the other files, you can do it as well.\n",
    "\n",
    "# If you want to download selected dataset you can do it\n",
    "root_dir = '/Users/naad/Work/Personal/saraga/testing/' # directory where files will be downloaded\n",
    "file_slug = ['mp3']\n",
    "obj.obj_dataset.download_files(root_dir, mbids=filtered_dataset.mbid.values, slug=file_slug)"
   ]
  },
  {
   "cell_type": "markdown",
   "metadata": {},
   "source": [
    "# Tip:\n",
    "\n",
    "If you want to perform further analysis on the filtered dataset (counting concepts or files etc) you can follow the same procedure (few lines of code) that is shown in ```concept_statistics.ipynb``` notebook. \n",
    "\n",
    "The pandas dataframe that holds the filtered dataset has the same format in all scripts.\n",
    "\n"
   ]
  }
 ],
 "metadata": {
  "hide_input": false,
  "kernelspec": {
   "display_name": "Python 3",
   "language": "python",
   "name": "python3"
  },
  "language_info": {
   "codemirror_mode": {
    "name": "ipython",
    "version": 3
   },
   "file_extension": ".py",
   "mimetype": "text/x-python",
   "name": "python",
   "nbconvert_exporter": "python",
   "pygments_lexer": "ipython3",
   "version": "3.7.6"
  },
  "toc": {
   "base_numbering": 1,
   "nav_menu": {},
   "number_sections": true,
   "sideBar": true,
   "skip_h1_title": false,
   "title_cell": "Table of Contents",
   "title_sidebar": "Contents",
   "toc_cell": false,
   "toc_position": {},
   "toc_section_display": true,
   "toc_window_display": false
  }
 },
 "nbformat": 4,
 "nbformat_minor": 4
}
