{
 "cells": [
  {
   "cell_type": "markdown",
   "metadata": {},
   "source": [
    "# You can use this script for:\n",
    "\n",
    "* If you want to filter the dataset by specific metadata (certain ragas, talas etc) \n",
    "* Download the filtered dataset\n",
    "* Or do some analysis on the filtered data (counts of other related information for instance)"
   ]
  },
  {
   "cell_type": "code",
   "execution_count": null,
   "metadata": {
    "ExecuteTime": {
     "end_time": "2020-10-01T02:43:05.497634Z",
     "start_time": "2020-10-01T02:43:05.078047Z"
    }
   },
   "outputs": [],
   "source": [
    "import os\n",
    "import sys\n",
    "import pdb\n",
    "import pandas as pd\n",
    "import numpy as np\n",
    "sys.path.append(os.path.join(os.path.dirname('__file__'), '../'))\n",
    "from utilities.dataset_filtering_util import DatasetFilteringUtil\n",
    "\n",
    "# To enable widgets etc needed for this script\n",
    "!jupyter nbextension enable --py widgetsnbextension"
   ]
  },
  {
   "cell_type": "markdown",
   "metadata": {},
   "source": [
    "# Setting API token to access the data\n",
    "\n",
    "You can get an API token by registering yourself in : https://dunya.compmusic.upf.edu/\n",
    "\n",
    "NOTE: Tradition slug (i.e. a machine readable unique identifier for the tradition) for hindustani is ```dunya-hindustani-cc```"
   ]
  },
  {
   "cell_type": "code",
   "execution_count": null,
   "metadata": {
    "ExecuteTime": {
     "end_time": "2020-10-01T02:43:07.304966Z",
     "start_time": "2020-10-01T02:43:07.302527Z"
    }
   },
   "outputs": [],
   "source": [
    "api_token = \"\" # set your token here\n",
    "tradition_slug = 'dunya-hindustani-cc'"
   ]
  },
  {
   "cell_type": "markdown",
   "metadata": {},
   "source": [
    "# Fetching information and setting up filters\n",
    "\n",
    "### Note: \n",
    "Fetching information every time from the servers is a time taking process (~5 min). To make quicker, we store the information we fetched from the server on the local machine. \n",
    "\n",
    "```use_cached = True``` : uses the information saved on the local machine\n",
    "\n",
    "```use_cached = False``` : pulls the information from the server\n",
    "\n",
    "If you are using this notebook after a long time you might want to use ```use_cached = False``` to make sure the information stored locally is synced with that on the server."
   ]
  },
  {
   "cell_type": "code",
   "execution_count": null,
   "metadata": {
    "ExecuteTime": {
     "end_time": "2020-10-01T02:45:11.540111Z",
     "start_time": "2020-10-01T02:45:11.533134Z"
    }
   },
   "outputs": [],
   "source": [
    "# Lets create an object which will perform filtering for us\n",
    "obj = DatasetFilteringUtil(api_token, tradition_slug, use_cached=True)"
   ]
  },
  {
   "cell_type": "code",
   "execution_count": null,
   "metadata": {
    "ExecuteTime": {
     "end_time": "2020-10-01T02:45:17.733599Z",
     "start_time": "2020-10-01T02:45:17.626110Z"
    }
   },
   "outputs": [],
   "source": [
    "# Lets fetch all the information and set the filters\n",
    "obj.prepare_filters()"
   ]
  },
  {
   "cell_type": "code",
   "execution_count": null,
   "metadata": {
    "ExecuteTime": {
     "end_time": "2020-10-01T02:45:17.970040Z",
     "start_time": "2020-10-01T02:45:17.965454Z"
    }
   },
   "outputs": [],
   "source": [
    "# After you select items, run this to filter the dataset\n",
    "filtered_dataset = obj.perform_filtering()\n",
    "print(\"There are %d number of mbids (recordings) selected after filtering\"%filtered_dataset.index.size)"
   ]
  },
  {
   "cell_type": "code",
   "execution_count": null,
   "metadata": {
    "ExecuteTime": {
     "end_time": "2020-10-01T02:45:18.523610Z",
     "start_time": "2020-10-01T02:45:18.491309Z"
    }
   },
   "outputs": [],
   "source": [
    "# This is a \"preview\" of filtered dataset (top 5 rows)\n",
    "filtered_dataset.head()"
   ]
  },
  {
   "cell_type": "code",
   "execution_count": null,
   "metadata": {
    "ExecuteTime": {
     "end_time": "2020-10-01T02:45:19.871767Z",
     "start_time": "2020-10-01T02:45:19.848660Z"
    }
   },
   "outputs": [],
   "source": [
    "# If you want to dump the filtered dataset in a csv and analyse you can do it as well\n",
    "file_path = 'filtered_dataset.csv'\n",
    "filtered_dataset.to_csv(file_path)"
   ]
  },
  {
   "cell_type": "code",
   "execution_count": null,
   "metadata": {
    "ExecuteTime": {
     "end_time": "2020-10-01T02:46:40.129256Z",
     "start_time": "2020-10-01T02:46:40.127029Z"
    }
   },
   "outputs": [],
   "source": [
    "# If you want to download selected dataset you can do it\n",
    "root_dir = '/Users/naad/Work/Personal/saraga/testing/' # directory where files will be downloaded\n",
    "obj.obj_dataset.download_files(root_dir, mbids=filtered_dataset.mbid.values)"
   ]
  },
  {
   "cell_type": "code",
   "execution_count": null,
   "metadata": {
    "ExecuteTime": {
     "end_time": "2020-10-01T02:48:31.280686Z",
     "start_time": "2020-10-01T02:48:13.100513Z"
    }
   },
   "outputs": [],
   "source": [
    "# In case you want to filter specific files for the selected dataset,\n",
    "# for example, downloading only mp3 and not the other files, you can do it as well.\n",
    "\n",
    "# If you want to download selected dataset you can do it\n",
    "root_dir = '/Users/naad/Work/Personal/saraga/testing/' # directory where files will be downloaded\n",
    "file_slug = ['mp3']\n",
    "obj.obj_dataset.download_files(root_dir, mbids=filtered_dataset.mbid.values, slug=file_slug)"
   ]
  },
  {
   "cell_type": "markdown",
   "metadata": {},
   "source": [
    "# Tip:\n",
    "\n",
    "If you want to perform further analysis on the filtered dataset (counting concepts or files etc) you can follow the same procedure (few lines of code) that is shown in ```concept_statistics.ipynb``` notebook. \n",
    "\n",
    "The pandas dataframe that holds the filtered dataset has the same format in all scripts.\n",
    "\n"
   ]
  }
 ],
 "metadata": {
  "hide_input": false,
  "kernelspec": {
   "display_name": "Python 3",
   "language": "python",
   "name": "python3"
  },
  "language_info": {
   "codemirror_mode": {
    "name": "ipython",
    "version": 3
   },
   "file_extension": ".py",
   "mimetype": "text/x-python",
   "name": "python",
   "nbconvert_exporter": "python",
   "pygments_lexer": "ipython3",
   "version": "3.7.1"
  },
  "toc": {
   "base_numbering": 1,
   "nav_menu": {},
   "number_sections": true,
   "sideBar": true,
   "skip_h1_title": false,
   "title_cell": "Table of Contents",
   "title_sidebar": "Contents",
   "toc_cell": false,
   "toc_position": {},
   "toc_section_display": true,
   "toc_window_display": false
  }
 },
 "nbformat": 4,
 "nbformat_minor": 4
}
