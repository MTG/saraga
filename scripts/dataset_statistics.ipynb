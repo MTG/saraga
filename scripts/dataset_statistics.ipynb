{
 "cells": [
  {
   "cell_type": "markdown",
   "metadata": {
    "ExecuteTime": {
     "end_time": "2020-09-27T10:04:49.125098Z",
     "start_time": "2020-09-27T10:04:31.963985Z"
    }
   },
   "source": [
    "# You can use this script for\n",
    "\n",
    "* Fetching statistics (count etc) of different types of metadata (concepts such as raga and tala) in the dataset\n",
    "* Fetching statistics (count etc) of different types of files in the dataset\n",
    "\n",
    "#### NOTE:\n",
    "To understand different kind of slugs (for tradition and files) and how to obtain the API token etc. please carefully go through the readme provided at: https://github.com/mtg/saraga"
   ]
  },
  {
   "cell_type": "code",
   "execution_count": null,
   "metadata": {
    "ExecuteTime": {
     "end_time": "2020-10-01T02:01:04.969612Z",
     "start_time": "2020-10-01T02:01:04.488872Z"
    }
   },
   "outputs": [],
   "source": [
    "# importing modules we would need for this script\n",
    "import os\n",
    "import sys\n",
    "import pdb\n",
    "import pandas as pd\n",
    "import numpy as np\n",
    "sys.path.append(os.path.join(os.path.dirname('__file__'), '../'))\n",
    "from utilities.dataset import Dataset"
   ]
  },
  {
   "cell_type": "markdown",
   "metadata": {},
   "source": [
    "# Setting API token to access the data\n",
    "\n",
    "You can get an API token by registering yourself in : https://dunya.compmusic.upf.edu/"
   ]
  },
  {
   "cell_type": "code",
   "execution_count": null,
   "metadata": {
    "ExecuteTime": {
     "end_time": "2020-10-01T02:01:09.155178Z",
     "start_time": "2020-10-01T02:01:09.152683Z"
    }
   },
   "outputs": [],
   "source": [
    "api_token = \"\" # set your token here"
   ]
  },
  {
   "cell_type": "markdown",
   "metadata": {},
   "source": [
    "# Fetching statistics for a tradition\n",
    "\n",
    "NOTE: Tradition slug (i.e. a machine readable unique identifier for the tradition) for hindustani is ```dunya-carnatic-cc```"
   ]
  },
  {
   "cell_type": "markdown",
   "metadata": {},
   "source": [
    "## Getting metadata statistics"
   ]
  },
  {
   "cell_type": "code",
   "execution_count": null,
   "metadata": {
    "ExecuteTime": {
     "end_time": "2020-10-01T01:54:10.542869Z",
     "start_time": "2020-10-01T01:54:10.540298Z"
    }
   },
   "outputs": [],
   "source": [
    "# Step 1: You have to create an object of the Dataset class with appropriate parameters\n",
    "obj_dataset = Dataset(tradition_slug='dunya-hindustani-cc', api_token=api_token)\n",
    "\n",
    "# Step 2: fetch metadata stats\n",
    "meta_stats = obj_dataset.get_metadata_stats()\n",
    "\n",
    "# Step 3: print the statistics\n",
    "obj_dataset.print_metadata_stats()"
   ]
  },
  {
   "cell_type": "markdown",
   "metadata": {},
   "source": [
    "## Getting dataset files statistics\n",
    "\n",
    "Saraga dataset contains several types of files such as audio recordings, annotation files (sama, melodic phrases, pitch, tonic etc). The following code computes the number of associated files for each recording in the dataset"
   ]
  },
  {
   "cell_type": "code",
   "execution_count": null,
   "metadata": {
    "ExecuteTime": {
     "end_time": "2020-10-01T01:54:18.228413Z",
     "start_time": "2020-10-01T01:54:18.225386Z"
    }
   },
   "outputs": [],
   "source": [
    "# If the above object for hindustani music already exists, you can also skip creating it again.\n",
    "obj_dataset = Dataset(tradition_slug='dunya-hindustani-cc', api_token=api_token)\n",
    "\n",
    "# compute file stats\n",
    "meta_stats = obj_dataset.get_file_stats()\n",
    "\n",
    "# print them to view in notebook\n",
    "obj_dataset.print_file_stats()"
   ]
  },
  {
   "cell_type": "markdown",
   "metadata": {},
   "source": [
    "### Step2: Fetching information and computing counts"
   ]
  },
  {
   "cell_type": "code",
   "execution_count": null,
   "metadata": {
    "ExecuteTime": {
     "end_time": "2020-10-01T01:55:04.377699Z",
     "start_time": "2020-10-01T01:54:18.230599Z"
    }
   },
   "outputs": [],
   "source": []
  },
  {
   "cell_type": "markdown",
   "metadata": {},
   "source": [
    "# Fetching statistics for Carnatic tradition\n",
    "\n",
    "NOTE: Tradition slug (i.e. a machine readable unique identifier for the tradition) for hindustani is ```dunya-carnatic-cc```"
   ]
  },
  {
   "cell_type": "markdown",
   "metadata": {},
   "source": [
    "## Getting metadata statistics"
   ]
  },
  {
   "cell_type": "code",
   "execution_count": null,
   "metadata": {
    "ExecuteTime": {
     "end_time": "2020-10-01T01:55:22.206161Z",
     "start_time": "2020-10-01T01:55:04.379790Z"
    }
   },
   "outputs": [],
   "source": [
    "# Following the same steps as above, creating a Dataset class object\n",
    "obj_dataset = Dataset(tradition_slug='dunya-carnatic-cc', api_token=api_token)\n",
    "\n",
    "# fetch metadata stats\n",
    "meta_stats = obj_dataset.get_metadata_stats()\n",
    "\n",
    "# print the statistics\n",
    "obj_dataset.print_metadata_stats()"
   ]
  },
  {
   "cell_type": "markdown",
   "metadata": {},
   "source": [
    "## Getting dataset files statistics"
   ]
  },
  {
   "cell_type": "code",
   "execution_count": null,
   "metadata": {
    "ExecuteTime": {
     "end_time": "2020-10-01T02:03:13.470515Z",
     "start_time": "2020-10-01T02:01:10.593054Z"
    }
   },
   "outputs": [],
   "source": [
    "# Following the same steps as above, creating a Dataset class object\n",
    "obj_dataset = Dataset(tradition_slug='dunya-carnatic-cc', api_token=api_token)\n",
    "\n",
    "# compute file stats\n",
    "meta_stats = obj_dataset.get_file_stats()\n",
    "\n",
    "# print them to view in notebook\n",
    "obj_dataset.print_file_stats()"
   ]
  },
  {
   "cell_type": "code",
   "execution_count": null,
   "metadata": {},
   "outputs": [],
   "source": [
    "obj_dataset.files"
   ]
  },
  {
   "cell_type": "code",
   "execution_count": null,
   "metadata": {},
   "outputs": [],
   "source": []
  }
 ],
 "metadata": {
  "hide_input": false,
  "kernelspec": {
   "display_name": "Python 3",
   "language": "python",
   "name": "python3"
  },
  "language_info": {
   "codemirror_mode": {
    "name": "ipython",
    "version": 3
   },
   "file_extension": ".py",
   "mimetype": "text/x-python",
   "name": "python",
   "nbconvert_exporter": "python",
   "pygments_lexer": "ipython3",
   "version": "3.7.1"
  },
  "toc": {
   "base_numbering": 1,
   "nav_menu": {},
   "number_sections": true,
   "sideBar": true,
   "skip_h1_title": false,
   "title_cell": "Table of Contents",
   "title_sidebar": "Contents",
   "toc_cell": false,
   "toc_position": {},
   "toc_section_display": true,
   "toc_window_display": false
  }
 },
 "nbformat": 4,
 "nbformat_minor": 2
}
