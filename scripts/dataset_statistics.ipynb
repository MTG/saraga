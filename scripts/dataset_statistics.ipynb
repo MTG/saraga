{
 "cells": [
  {
   "cell_type": "markdown",
   "metadata": {
    "ExecuteTime": {
     "end_time": "2020-09-27T10:04:49.125098Z",
     "start_time": "2020-09-27T10:04:31.963985Z"
    }
   },
   "source": [
    "# You can use this script for\n",
    "\n",
    "* Fetching statistics (count etc) of different types of metadata (concepts such as raga and tala) in the dataset\n",
    "* Fetching statistics (count etc) of different types of files in the dataset\n"
   ]
  },
  {
   "cell_type": "code",
   "execution_count": 2,
   "metadata": {
    "ExecuteTime": {
     "end_time": "2020-10-01T02:01:04.969612Z",
     "start_time": "2020-10-01T02:01:04.488872Z"
    }
   },
   "outputs": [],
   "source": [
    "# importing modules we would need for this script\n",
    "import os\n",
    "import sys\n",
    "import pdb\n",
    "import pandas as pd\n",
    "import numpy as np\n",
    "sys.path.append(os.path.join(os.path.dirname('__file__'), '../'))\n",
    "from utilities.dataset import Dataset"
   ]
  },
  {
   "cell_type": "markdown",
   "metadata": {},
   "source": [
    "# Setting API token to access the data\n",
    "\n",
    "You can get an API token by registering yourself in : https://dunya.compmusic.upf.edu/"
   ]
  },
  {
   "cell_type": "code",
   "execution_count": 4,
   "metadata": {
    "ExecuteTime": {
     "end_time": "2020-10-01T02:01:09.155178Z",
     "start_time": "2020-10-01T02:01:09.152683Z"
    }
   },
   "outputs": [],
   "source": [
    "api_token = \"\" # set your token here"
   ]
  },
  {
   "cell_type": "markdown",
   "metadata": {},
   "source": [
    "# Fetching statistics for Hindustani tradition\n",
    "\n",
    "NOTE: Tradition slug (i.e. a machine readable unique identifier for the tradition) for hindustani is ```dunya-hindustani-cc```"
   ]
  },
  {
   "cell_type": "markdown",
   "metadata": {},
   "source": [
    "## Getting metadata statistics"
   ]
  },
  {
   "cell_type": "markdown",
   "metadata": {},
   "source": [
    "### Step1: create an object of the dataset class"
   ]
  },
  {
   "cell_type": "code",
   "execution_count": null,
   "metadata": {
    "ExecuteTime": {
     "end_time": "2020-10-01T01:54:10.542869Z",
     "start_time": "2020-10-01T01:54:10.540298Z"
    }
   },
   "outputs": [],
   "source": [
    "obj_dataset = Dataset(tradition_slug='dunya-hindustani-cc', api_token=api_token)"
   ]
  },
  {
   "cell_type": "markdown",
   "metadata": {
    "ExecuteTime": {
     "end_time": "2020-09-27T10:21:13.283465Z",
     "start_time": "2020-09-27T10:21:13.281141Z"
    }
   },
   "source": [
    "### Step2: Fetch metadata (raga, tala, artists etc) linked with recordings in the dataset and get counts"
   ]
  },
  {
   "cell_type": "code",
   "execution_count": null,
   "metadata": {
    "ExecuteTime": {
     "end_time": "2020-10-01T01:54:18.223253Z",
     "start_time": "2020-10-01T01:54:10.545360Z"
    }
   },
   "outputs": [],
   "source": [
    "# fetch metadata stats\n",
    "meta_stats = obj_dataset.get_metadata_stats()\n",
    "\n",
    "# print the statistics\n",
    "obj_dataset.print_metadata_stats()"
   ]
  },
  {
   "cell_type": "markdown",
   "metadata": {},
   "source": [
    "## Getting dataset files statistics\n",
    "\n",
    "Saraga dataset contains several types of files such as audio recordings, annotation files (sama, melodic phrases, pitch, tonic etc). The following code computes the number of associated files for each recording in the dataset"
   ]
  },
  {
   "cell_type": "markdown",
   "metadata": {},
   "source": [
    "### Step 1: Create an object of the dataset class"
   ]
  },
  {
   "cell_type": "code",
   "execution_count": null,
   "metadata": {
    "ExecuteTime": {
     "end_time": "2020-10-01T01:54:18.228413Z",
     "start_time": "2020-10-01T01:54:18.225386Z"
    }
   },
   "outputs": [],
   "source": [
    "# If the above object for hindustani music already exists, you can also skip creating it again.\n",
    "obj_dataset = Dataset(tradition_slug='dunya-hindustani-cc', api_token=api_token)"
   ]
  },
  {
   "cell_type": "markdown",
   "metadata": {},
   "source": [
    "### Step2: Fetching information and computing counts"
   ]
  },
  {
   "cell_type": "code",
   "execution_count": null,
   "metadata": {
    "ExecuteTime": {
     "end_time": "2020-10-01T01:55:04.377699Z",
     "start_time": "2020-10-01T01:54:18.230599Z"
    }
   },
   "outputs": [],
   "source": [
    "# compute file stats\n",
    "meta_stats = obj_dataset.get_file_stats()\n",
    "\n",
    "# print them to view in notebook\n",
    "obj_dataset.print_file_stats()"
   ]
  },
  {
   "cell_type": "markdown",
   "metadata": {},
   "source": [
    "# Fetching statistics for Carnatic tradition\n",
    "\n",
    "NOTE: Tradition slug (i.e. a machine readable unique identifier for the tradition) for hindustani is ```dunya-carnatic-cc```"
   ]
  },
  {
   "cell_type": "markdown",
   "metadata": {},
   "source": [
    "## Getting metadata statistics"
   ]
  },
  {
   "cell_type": "code",
   "execution_count": null,
   "metadata": {
    "ExecuteTime": {
     "end_time": "2020-10-01T01:55:22.206161Z",
     "start_time": "2020-10-01T01:55:04.379790Z"
    }
   },
   "outputs": [],
   "source": [
    "# Following the same steps as above, creating a Dataset class object\n",
    "obj_dataset = Dataset(tradition_slug='dunya-carnatic-cc', api_token=api_token)\n",
    "\n",
    "# fetch metadata stats\n",
    "meta_stats = obj_dataset.get_metadata_stats()\n",
    "\n",
    "# print the statistics\n",
    "obj_dataset.print_metadata_stats()"
   ]
  },
  {
   "cell_type": "markdown",
   "metadata": {},
   "source": [
    "## Getting dataset files statistics"
   ]
  },
  {
   "cell_type": "code",
   "execution_count": 5,
   "metadata": {
    "ExecuteTime": {
     "end_time": "2020-10-01T02:03:13.470515Z",
     "start_time": "2020-10-01T02:01:10.593054Z"
    }
   },
   "outputs": [
    {
     "name": "stdout",
     "output_type": "stream",
     "text": [
      "Fetching file counts...\n",
      "This function may take several minutes (typically 2-5 min)...\n",
      "Issue with: carnatic, c79c3d8f-29a2-40cd-85f7-cc98da4b4532\n",
      "Issue with: carnatic, 14c18b73-88a7-4092-9317-13ff31254b35\n",
      "-------------------------------------------------------------\n",
      "-------------------------------------------------------------\n",
      "These are the stats for annotation type of files\n",
      "<File slug> | <Number of files in the dataset>\n",
      "|                   |   0 |\n",
      "|:------------------|----:|\n",
      "| pitch             | 197 |\n",
      "| ctonic            | 197 |\n",
      "| sama-manual       | 141 |\n",
      "| bpm-manual        | 119 |\n",
      "| tempo-manual      | 133 |\n",
      "| sections-manual-p | 119 |\n",
      "| mphrases-manual   | 117 |\n",
      "\n",
      "\n",
      "File slug is essentially a machine readable identifier for that particular type of file\n",
      "-------------------------------------------------------------\n",
      "-------------------------------------------------------------\n",
      "These are the stats for audio type of files\n",
      "<File slug> | <Number of files in the dataset>\n",
      "|                            |   0 |\n",
      "|:---------------------------|----:|\n",
      "| mp3                        | 249 |\n",
      "| multitrack-vocal           | 168 |\n",
      "| multitrack-vocal-s         |  24 |\n",
      "| multitrack-violin          | 168 |\n",
      "| multitrack-ghatam          |  46 |\n",
      "| multitrack-mridangam-left  | 168 |\n",
      "| multitrack-mridangam-right | 168 |\n",
      "\n",
      "\n",
      "File slug is essentially a machine readable identifier for that particular type of file\n"
     ]
    }
   ],
   "source": [
    "# Following the same steps as above, creating a Dataset class object\n",
    "obj_dataset = Dataset(tradition_slug='dunya-carnatic-cc', api_token=api_token)\n",
    "\n",
    "# compute file stats\n",
    "meta_stats = obj_dataset.get_file_stats()\n",
    "\n",
    "# print them to view in notebook\n",
    "obj_dataset.print_file_stats()"
   ]
  },
  {
   "cell_type": "code",
   "execution_count": null,
   "metadata": {},
   "outputs": [],
   "source": []
  }
 ],
 "metadata": {
  "hide_input": false,
  "kernelspec": {
   "display_name": "Python 3",
   "language": "python",
   "name": "python3"
  },
  "language_info": {
   "codemirror_mode": {
    "name": "ipython",
    "version": 3
   },
   "file_extension": ".py",
   "mimetype": "text/x-python",
   "name": "python",
   "nbconvert_exporter": "python",
   "pygments_lexer": "ipython3",
   "version": "3.7.6"
  },
  "toc": {
   "base_numbering": 1,
   "nav_menu": {},
   "number_sections": true,
   "sideBar": true,
   "skip_h1_title": false,
   "title_cell": "Table of Contents",
   "title_sidebar": "Contents",
   "toc_cell": false,
   "toc_position": {},
   "toc_section_display": true,
   "toc_window_display": false
  }
 },
 "nbformat": 4,
 "nbformat_minor": 2
}
