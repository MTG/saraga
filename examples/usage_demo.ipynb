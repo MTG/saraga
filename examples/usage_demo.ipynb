{
 "cells": [
  {
   "cell_type": "markdown",
   "metadata": {},
   "source": [
    "# Intro\n",
    " \n",
    " This notebook contains examples of how you can use the utility code provided in this repository \n",
    " \n",
    " ### TIP: don't forget to set your token\n",
    " \n"
   ]
  },
  {
   "cell_type": "code",
   "execution_count": 3,
   "metadata": {
    "ExecuteTime": {
     "end_time": "2020-05-01T13:23:00.956097Z",
     "start_time": "2020-05-01T13:23:00.952312Z"
    }
   },
   "outputs": [],
   "source": [
    "import os\n",
    "import sys\n",
    "import pdb\n",
    "import pandas as pd\n",
    "import numpy as np\n",
    "sys.path.append(os.path.join(os.path.dirname('__file__'), '../'))\n",
    "from saraga_utils.saraga import Saraga\n",
    "from saraga_utils.dataset import Dataset"
   ]
  },
  {
   "cell_type": "markdown",
   "metadata": {},
   "source": [
    "# Get metadata and file statistics of a dataset"
   ]
  },
  {
   "cell_type": "code",
   "execution_count": 4,
   "metadata": {
    "ExecuteTime": {
     "end_time": "2020-05-01T13:23:05.000379Z",
     "start_time": "2020-05-01T13:23:04.997900Z"
    }
   },
   "outputs": [],
   "source": [
    "dataset_slug = 'dunya-hindustani-cc'\n",
    "api_token = '' # get from https://dunya.compmusic.upf.edu/"
   ]
  },
  {
   "cell_type": "markdown",
   "metadata": {},
   "source": [
    "### Get metadata stats for the dataset"
   ]
  },
  {
   "cell_type": "code",
   "execution_count": 5,
   "metadata": {
    "ExecuteTime": {
     "end_time": "2020-05-01T13:23:34.000227Z",
     "start_time": "2020-05-01T13:23:26.271263Z"
    }
   },
   "outputs": [
    {
     "name": "stdout",
     "output_type": "stream",
     "text": [
      "Computing metadata stats now...\n",
      "----------------------------------------\n",
      "Stats for hindustani tradition:\n",
      "Total number of unique release are:36\n",
      "Total number of unique works are:113\n",
      "Total number of unique raags are:61\n",
      "Total number of unique taals are:9\n",
      "Total number of unique forms are:5\n",
      "Total number of unique layas are:2\n",
      "Total number of unique artists are:36\n",
      "Total number of unique album_artists are:11\n",
      "Total length of the recordings: 43.59 hrs\n",
      "Total number of recordings 108\n"
     ]
    }
   ],
   "source": [
    "# first create a object of the dataset class\n",
    "obj_dataset = Dataset(tradition_slug=dataset_slug, api_token=api_token)\n",
    "\n",
    "# compute metadata stats\n",
    "meta_stats = obj_dataset.get_metadata_stats()\n",
    "\n",
    "# print them to view in notebook\n",
    "obj_dataset.print_metadata_stats()"
   ]
  },
  {
   "cell_type": "markdown",
   "metadata": {},
   "source": [
    "### Get file stats for the dataset\n",
    "NOTE: this step takes quite a bit of time, be patient :) "
   ]
  },
  {
   "cell_type": "code",
   "execution_count": 6,
   "metadata": {
    "ExecuteTime": {
     "end_time": "2020-05-01T13:24:34.045349Z",
     "start_time": "2020-05-01T13:23:48.604236Z"
    }
   },
   "outputs": [
    {
     "name": "stdout",
     "output_type": "stream",
     "text": [
      "Computing file stats now...\n",
      "This function might take some time...\n",
      "-------------------------------------------------------------\n",
      "-------------------------------------------------------------\n",
      "These are the stats for annotation type of files\n",
      "|                   |   0 |\n",
      "|:------------------|----:|\n",
      "| sama-manual       |  75 |\n",
      "| bpm-manual        |  67 |\n",
      "| tempo-manual      |  75 |\n",
      "| sections-manual-p |  75 |\n",
      "| mphrases-manual   |  53 |\n",
      "-------------------------------------------------------------\n",
      "-------------------------------------------------------------\n",
      "These are the stats for audio_stereo type of files\n",
      "|     |   0 |\n",
      "|:----|----:|\n",
      "| mp3 | 108 |\n",
      "-------------------------------------------------------------\n",
      "-------------------------------------------------------------\n",
      "These are the stats for descriptor type of files\n",
      "|        |   0 |\n",
      "|:-------|----:|\n",
      "| pitch  | 108 |\n",
      "| ctonic | 108 |\n"
     ]
    }
   ],
   "source": [
    "# compute file stats\n",
    "meta_stats = obj_dataset.get_file_stats()\n",
    "\n",
    "# print them to view in notebook\n",
    "obj_dataset.print_file_stats()"
   ]
  },
  {
   "cell_type": "markdown",
   "metadata": {},
   "source": [
    "## Don't understand so many different types of files?, lets fetch an explanation"
   ]
  },
  {
   "cell_type": "code",
   "execution_count": 7,
   "metadata": {
    "ExecuteTime": {
     "end_time": "2020-05-01T13:24:54.789795Z",
     "start_time": "2020-05-01T13:24:54.779099Z"
    }
   },
   "outputs": [
    {
     "name": "stdout",
     "output_type": "stream",
     "text": [
      "There are 3 types of file types in this collection\n",
      "------------\n",
      "File type: annotation\n",
      "There are 5 types of files within this file type.\n",
      "Slug of the file: sama-manual\t\t, description: Manually annotated sama locations\n",
      "Slug of the file: bpm-manual\t\t, description: Manually annotated BPM\n",
      "Slug of the file: tempo-manual\t\t, description: Manually annotated tempo of the recording\n",
      "Slug of the file: sections-manual-p\t\t, description: Manually annotated sections in the recording\n",
      "Slug of the file: mphrases-manual\t\t, description: Manually annotated melodic phrases\n",
      "------------\n",
      "------------\n",
      "File type: audio_stereo\n",
      "There are 1 types of files within this file type.\n",
      "Slug of the file: mp3\t\t, description: Stereo mix of the recording\n",
      "------------\n",
      "------------\n",
      "File type: descriptor\n",
      "There are 2 types of files within this file type.\n",
      "Slug of the file: pitch\t\t, description: Automatically extracted predominant melody\n",
      "Slug of the file: ctonic\t\t, description: Automatically extracted tonic of the recording\n",
      "------------\n"
     ]
    }
   ],
   "source": [
    "obj_dataset.explain_filetypes()"
   ]
  },
  {
   "cell_type": "markdown",
   "metadata": {},
   "source": [
    "# Now that we understand file types, lets download them"
   ]
  },
  {
   "cell_type": "code",
   "execution_count": null,
   "metadata": {
    "ExecuteTime": {
     "end_time": "2020-04-26T04:44:49.142761Z",
     "start_time": "2020-04-25T21:57:57.125202Z"
    }
   },
   "outputs": [],
   "source": [
    "# note: you can choose any filetype that you want to download\n",
    "# NOTE: IF NO FILETYPES ARE SELECTED IT WILL DOWNLOAD ALL THE FILES IN THE ENTIRE DATSET\n",
    "# AUDIO AND PITCH FILES are sometimes huge, you would need a good amount of space (~20GB for both the datasets)!\n",
    "# We suggest you select specific file types, which you actually need!!\n",
    "dir_name = 'temp'\n",
    "obj_dataset.download_files(dir_name)"
   ]
  },
  {
   "cell_type": "markdown",
   "metadata": {
    "ExecuteTime": {
     "end_time": "2020-04-25T14:10:44.190952Z",
     "start_time": "2020-04-25T14:10:44.146092Z"
    }
   },
   "source": [
    "### You can also download selected file types"
   ]
  },
  {
   "cell_type": "code",
   "execution_count": 16,
   "metadata": {
    "ExecuteTime": {
     "end_time": "2020-04-26T11:39:29.549982Z",
     "start_time": "2020-04-26T11:39:29.547860Z"
    }
   },
   "outputs": [],
   "source": [
    "# You can do two types of filtering\n",
    "# file_types: Any of 'annotation' or 'audio_stereo' or 'descriptor' or 'multitrack'\n",
    "# thetype: You can specify slug of individual file types, for example 'mphrases-manual' within annotation type file.\n",
    "obj_dataset.download_files(dir_name, thetype=['mphrases-manual'])"
   ]
  },
  {
   "cell_type": "code",
   "execution_count": null,
   "metadata": {
    "ExecuteTime": {
     "end_time": "2020-04-26T11:31:45.012144Z",
     "start_time": "2020-04-26T11:31:45.007501Z"
    }
   },
   "outputs": [],
   "source": []
  },
  {
   "cell_type": "code",
   "execution_count": null,
   "metadata": {},
   "outputs": [],
   "source": []
  }
 ],
 "metadata": {
  "hide_input": false,
  "kernelspec": {
   "display_name": "Python 3",
   "language": "python",
   "name": "python3"
  },
  "language_info": {
   "codemirror_mode": {
    "name": "ipython",
    "version": 3
   },
   "file_extension": ".py",
   "mimetype": "text/x-python",
   "name": "python",
   "nbconvert_exporter": "python",
   "pygments_lexer": "ipython3",
   "version": "3.7.6"
  },
  "toc": {
   "base_numbering": 1,
   "nav_menu": {},
   "number_sections": true,
   "sideBar": true,
   "skip_h1_title": false,
   "title_cell": "Table of Contents",
   "title_sidebar": "Contents",
   "toc_cell": false,
   "toc_position": {},
   "toc_section_display": true,
   "toc_window_display": false
  }
 },
 "nbformat": 4,
 "nbformat_minor": 4
}
